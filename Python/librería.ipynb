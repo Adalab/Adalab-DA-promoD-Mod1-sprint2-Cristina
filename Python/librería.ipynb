{
 "cells": [
  {
   "cell_type": "code",
   "execution_count": 316,
   "metadata": {},
   "outputs": [],
   "source": [
    "class Librería:\n",
    "\n",
    "    \"\"\"Esta clase se denomina Librería porque está pensada para el tratamiento de textos de cara al trabajo de una editorial.\n",
    "        El constructor toma como argumentos la ruta del archivo y el nombre de este. \n",
    "        Dentro de la clase se han definido los siguientes métodos:\n",
    "\n",
    "        Abrir fichero, lectura de palabras, lectura de líneas, contenido del libro y contar palabras.\n",
    "        Se ha instanciado el archivo de texto \"quijote\" para las pruebas de los métodos. \n",
    "    \"\"\"\n",
    "\n",
    "    def __init__(self, ruta, fichero_txt):\n",
    "\n",
    "        self.ruta = ruta                                                   \n",
    "        self.fichero_txt = fichero_txt     \n",
    "                                                       \n",
    "    \n",
    "    def abrir_fichero(self): \n",
    "        \n",
    "        try: \n",
    "\n",
    "                with open((f\"{self.ruta}/{self.fichero_txt}.txt\"), 'r', encoding ='latin-1') as f:\n",
    "                    contenido = f.read()\n",
    "                    print(contenido)\n",
    "             \n",
    "\n",
    "        except FileNotFoundError:\n",
    "             msg = (f\"lo siento... no puedo encontar el archivo {self.fichero_txt}\")\n",
    "             print(msg)\n",
    "             \n",
    "    def lectura_palabras(self, numero_palabras):\n",
    "\n",
    "        self.numero_palabras = numero_palabras\n",
    "\n",
    "        try:\n",
    "             \n",
    "            contenido = open((f\"{self.ruta}/{self.fichero_txt}.txt\"), 'r', encoding ='latin-1').read()\n",
    "            contenido = contenido.split()\n",
    "            contenido2 = contenido[:self.numero_palabras]\n",
    "            contenido2 = str(contenido2)\n",
    "            \n",
    "            return (f\"Tu lista de {numero_palabras} palabras es {contenido2}\")\n",
    "          \n",
    "        except NameError:\n",
    "            msg = (\"La operación no se puede hacer porque no has escrito un número. ¡Vuelve a intentarlo!\")\n",
    "            print(msg)\n",
    "    \n",
    "    def leer_lineas(self):\n",
    "    \n",
    "        with open((f\"{self.ruta}/{self.fichero_txt}.txt\"), 'r', encoding ='latin-1') as f:\n",
    "             lineas = f.readlines()\n",
    "             \n",
    "        try: \n",
    "             numero_lineas = input(\"¿Cuántas líneas quieres leer? Introduce un número o 'todas' para leer todas las líneas: \")\n",
    "             if numero_lineas.lower() == 'todas':\n",
    "                  return lineas\n",
    "             else: \n",
    "                numero_lineas = int(numero_lineas)\n",
    "                if numero_lineas <= 0:\n",
    "                     print(\"Introduce un número mayor que 0\")\n",
    "                else:\n",
    "                     return \" \".join(lineas[:numero_lineas])\n",
    "        except ValueError:\n",
    "            print(\"Introduce un número válido\")\n",
    "    \n",
    "    def contenido_libro(self): \n",
    "         \n",
    "            libro = open((f\"{self.ruta}/{self.fichero_txt}.txt\"), 'r', encoding ='latin-1').read()\n",
    "            libro = libro[1780:74276]\n",
    "\n",
    "            print(libro) \n",
    "         \n",
    "    def contar_palabras(self, *args): \n",
    "         \n",
    "        args = input(\"introduce la palabra o las palabras que quieras contar\")\n",
    "        palabras = args.lower().split()\n",
    "           \n",
    "        with open((f\"{self.ruta}/{self.fichero_txt}.txt\"), 'r', encoding ='latin-1') as f: \n",
    "            archivo = f.read()\n",
    "            archivo = archivo.split()\n",
    "        \n",
    "            numero_palabras = archivo.count(palabras)\n",
    "\n",
    "    \n",
    "        return numero_palabras\n",
    "        "
   ]
  },
  {
   "cell_type": "code",
   "execution_count": 317,
   "metadata": {},
   "outputs": [],
   "source": [
    "quijote = Librería('../textos', 'quijote')  "
   ]
  },
  {
   "cell_type": "code",
   "execution_count": null,
   "metadata": {},
   "outputs": [],
   "source": [
    "quijote.abrir_fichero()"
   ]
  },
  {
   "cell_type": "code",
   "execution_count": 321,
   "metadata": {},
   "outputs": [
    {
     "data": {
      "text/plain": [
       "'Tu lista de 50 palabras es [\\'Project\\', \\'Gutenberg\\', \\'Etext\\', \\'of\\', \\'Don\\', \\'Quijote,\\', \\'by\\', \\'Cervantes,\\', \\'in\\', \\'Spanish\\', \\'#2\\', \\'in\\', \\'our\\', \\'series\\', \\'by\\', \\'Cervantes\\', \\'We\\', \\'will\\', \\'be\\', \\'presenting\\', \\'two\\', \\'versions\\', \\'of\\', \\'this,\\', \\'one\\', \\'in\\', \\'HTML\\', \\'and\\', \\'one\\', \\'in\\', \\'\"Plain\\', \\'Upper\\', \\'ASCII\\', \\'Spanish.\"\\', \\'The\\', \\'HTML\\', \\'file\\', \\'will\\', \\'have\\', \\'\"h\"\\', \\'as\\', \\'the\\', \\'last\\', \\'character\\', \\'in\\', \\'the\\', \\'name...\\', \\'such\\', \\'as\\', \\'2donq10h.htm\\']'"
      ]
     },
     "execution_count": 321,
     "metadata": {},
     "output_type": "execute_result"
    }
   ],
   "source": [
    "quijote.lectura_palabras(50)"
   ]
  },
  {
   "cell_type": "code",
   "execution_count": 320,
   "metadata": {},
   "outputs": [
    {
     "data": {
      "text/plain": [
       "'Project Gutenberg Etext of Don Quijote, by Cervantes, in Spanish\\n \\n #2 in our series by Cervantes\\n \\n \\n \\n We will be presenting two versions of this, one in HTML and one\\n \\n in \"Plain Upper ASCII Spanish.\"\\n \\n \\n \\n The HTML file will have \"h\" as the last character in the name...\\n \\n such as 2donq10h.htm and the plain file will be 2donq10.txt\\n \\n \\n \\n \\n \\n Also see\\n \\n Jul 1997 Don Quixote, by Miguel de Cervantes--[1donqxxx.xxx] 996\\n'"
      ]
     },
     "execution_count": 320,
     "metadata": {},
     "output_type": "execute_result"
    }
   ],
   "source": [
    "quijote.leer_lineas()"
   ]
  },
  {
   "cell_type": "code",
   "execution_count": 315,
   "metadata": {},
   "outputs": [
    {
     "data": {
      "text/plain": [
       "0"
      ]
     },
     "execution_count": 315,
     "metadata": {},
     "output_type": "execute_result"
    }
   ],
   "source": [
    "quijote.contar_palabras()"
   ]
  }
 ],
 "metadata": {
  "kernelspec": {
   "display_name": "base",
   "language": "python",
   "name": "python3"
  },
  "language_info": {
   "codemirror_mode": {
    "name": "ipython",
    "version": 3
   },
   "file_extension": ".py",
   "mimetype": "text/x-python",
   "name": "python",
   "nbconvert_exporter": "python",
   "pygments_lexer": "ipython3",
   "version": "3.9.7"
  },
  "orig_nbformat": 4
 },
 "nbformat": 4,
 "nbformat_minor": 2
}
