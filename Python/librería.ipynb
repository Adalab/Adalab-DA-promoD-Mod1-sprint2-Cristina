{
 "cells": [
  {
   "cell_type": "code",
   "execution_count": 3,
   "metadata": {},
   "outputs": [],
   "source": [
    "\"\"\"Módulo Main\"\"\"\n",
    "\n",
    "class Librería:\n",
    "   \n",
    "  \n",
    "    \"\"\"Esta clase se denomina Librería porque está pensada para el tratamiento de textos de cara al trabajo de una editorial.\"\"\"\n",
    "\n",
    "\n",
    "    def __init__(self, ruta, fichero_txt):\n",
    "        \"\"\"_summary_ inicializa la clase, instanciando un objeto\n",
    "\n",
    "        Args:\n",
    "            ruta (str): ruta donde se encuentra el fichero\n",
    "            fichero_txt (str): nombre del fichero \n",
    "        \"\"\"\n",
    "\n",
    "        self.ruta = ruta                                                   \n",
    "        self.fichero_txt = fichero_txt     \n",
    "                                                       \n",
    "    \n",
    "    def abrir_fichero(self, read_lines=True): \n",
    "        \"\"\"_summary_abre el fichero\n",
    "\n",
    "        Args:\n",
    "            read_lines (bool, optional): apertura en líneas. Defaults to True.\n",
    "\n",
    "        Returns:\n",
    "            lista: cada línea del archivo\n",
    "            \n",
    "        Raises: \n",
    "            FileNotFoundError: retorna una excepción\"\"\"\n",
    "        \n",
    "        try: \n",
    "\n",
    "                with open((f\"{self.ruta}/{self.fichero_txt}.txt\"), 'r', encoding ='latin-1') as f:\n",
    "                    if not read_lines:\n",
    "                         return f.read()\n",
    "                    else:\n",
    "                         return f.readlines()\n",
    "             \n",
    "\n",
    "        except FileNotFoundError:\n",
    "             msg = (f\"lo siento... no puedo encontar el archivo {self.fichero_txt}\")\n",
    "             print(msg)\n",
    "             \n",
    "    def lectura_palabras(self, numero_palabras):\n",
    "        \"\"\"_summary_crea una lista con el número de palabras indicados\n",
    "\n",
    "        Args:\n",
    "            numero_palabras (str): número de palabras indicado por el usuario\n",
    "\n",
    "        Returns:\n",
    "            lista: lista conteniendo tantas palabras como haya indicado el usurio\n",
    "        \"\"\"\n",
    "\n",
    "        contenido = self.abrir_fichero(read_lines=False)\n",
    "\n",
    "        if type(numero_palabras) is not int:\n",
    "            print(\"La operación no se puede hacer porque no has escrito un número. ¡Vuelve a intentarlo!\")\n",
    "            return\n",
    "        \n",
    "             \n",
    "        contenido = contenido.split()\n",
    "        contenido2 = contenido[:numero_palabras]\n",
    "        contenido2 = str(contenido2)\n",
    "            \n",
    "        return (f\"Tu lista de {numero_palabras} palabras es {contenido2}\")\n",
    "            \n",
    "    \n",
    "    def leer_lineas(self):\n",
    "        \"\"\"_summary_permite leer un número de líneas en función de lo indicado por el usuario\n",
    "\n",
    "        Returns:\n",
    "            _list_: líneas indicadas por el usuario\n",
    "        \n",
    "        Raises:\n",
    "            ValueError: si no se indica un número válido\n",
    "        \"\"\"\n",
    "        \n",
    "        lineas = self.abrir_fichero()\n",
    "             \n",
    "        try: \n",
    "             numero_lineas = input(\"¿Cuántas líneas quieres leer? Introduce un número o 'todas' para leer todas las líneas: \")\n",
    "             if numero_lineas.lower() == 'todas':\n",
    "                  return lineas\n",
    "             else: \n",
    "                numero_lineas = int(numero_lineas)\n",
    "                if numero_lineas <= 0:\n",
    "                     print(\"Introduce un número mayor que 0\")\n",
    "                else:\n",
    "                     return \" \".join(lineas[:numero_lineas])\n",
    "        except ValueError:\n",
    "            print(\"Introduce un número válido\")\n",
    "    \n",
    "    def contenido_libro(self): \n",
    "        \"\"\"_summary_permite leer el contenido concreto del libro dentro del archivo\n",
    "\n",
    "        Returns:\n",
    "            _list_: contenido del libro\n",
    "        \"\"\"\n",
    "         \n",
    "        libro = self.abrir_fichero()\n",
    "        libro = libro[1780:74276]\n",
    "\n",
    "        return libro \n",
    "         \n",
    "    def contar_palabras(self): \n",
    "        \"\"\"_summary_la función cuenta las veces que una palabra dada aparece en el texto\n",
    "\n",
    "        Returns:\n",
    "            _type_(str): _description_ las veces que aparece la palabra\n",
    "        \"\"\"\n",
    "        \n",
    "        word = input(\"introduce la palabra que quieres contar\")\n",
    "        word = word.lower()\n",
    "        text_lines = self.abrir_fichero()\n",
    "        counter = 0\n",
    "     \n",
    "        for line in text_lines:\n",
    "                counter += line.lower().count(word)\n",
    "        return (f\"La palabra {word} está {counter} veces en el texto\")\n",
    "            \n",
    "        "
   ]
  },
  {
   "cell_type": "code",
   "execution_count": 4,
   "metadata": {},
   "outputs": [],
   "source": [
    "quijote = Librería('../../textos', 'quijote')  "
   ]
  },
  {
   "cell_type": "code",
   "execution_count": 6,
   "metadata": {},
   "outputs": [
    {
     "name": "stdout",
     "output_type": "stream",
     "text": [
      "La operación no se puede hacer porque no has escrito un número. ¡Vuelve a intentarlo!\n"
     ]
    }
   ],
   "source": [
    "quijote.lectura_palabras(\"hola\")"
   ]
  },
  {
   "cell_type": "code",
   "execution_count": 7,
   "metadata": {},
   "outputs": [
    {
     "data": {
      "text/plain": [
       "\"Tu lista de 30 palabras es ['Project', 'Gutenberg', 'Etext', 'of', 'Don', 'Quijote,', 'by', 'Cervantes,', 'in', 'Spanish', '#2', 'in', 'our', 'series', 'by', 'Cervantes', 'We', 'will', 'be', 'presenting', 'two', 'versions', 'of', 'this,', 'one', 'in', 'HTML', 'and', 'one', 'in']\""
      ]
     },
     "execution_count": 7,
     "metadata": {},
     "output_type": "execute_result"
    }
   ],
   "source": [
    "quijote.lectura_palabras(30)"
   ]
  },
  {
   "cell_type": "code",
   "execution_count": 8,
   "metadata": {},
   "outputs": [
    {
     "data": {
      "text/plain": [
       "'Project Gutenberg Etext of Don Quijote, by Cervantes, in Spanish\\n \\n #2 in our series by Cervantes\\n \\n \\n \\n We will be presenting two versions of this, one in HTML and one\\n \\n in \"Plain Upper ASCII Spanish.\"\\n \\n \\n \\n'"
      ]
     },
     "execution_count": 8,
     "metadata": {},
     "output_type": "execute_result"
    }
   ],
   "source": [
    "quijote.leer_lineas()"
   ]
  },
  {
   "cell_type": "code",
   "execution_count": 9,
   "metadata": {},
   "outputs": [
    {
     "data": {
      "text/plain": [
       "'La palabra dulcinea está 285 veces en el texto'"
      ]
     },
     "execution_count": 9,
     "metadata": {},
     "output_type": "execute_result"
    }
   ],
   "source": [
    "quijote.contar_palabras()"
   ]
  }
 ],
 "metadata": {
  "kernelspec": {
   "display_name": "Python 3",
   "language": "python",
   "name": "python3"
  },
  "language_info": {
   "codemirror_mode": {
    "name": "ipython",
    "version": 3
   },
   "file_extension": ".py",
   "mimetype": "text/x-python",
   "name": "python",
   "nbconvert_exporter": "python",
   "pygments_lexer": "ipython3",
   "version": "3.9.7"
  },
  "orig_nbformat": 4,
  "vscode": {
   "interpreter": {
    "hash": "10a191036513970f74f24b09d9449f2dda6b31f69f33575a002161eb9fe69ba4"
   }
  }
 },
 "nbformat": 4,
 "nbformat_minor": 2
}
